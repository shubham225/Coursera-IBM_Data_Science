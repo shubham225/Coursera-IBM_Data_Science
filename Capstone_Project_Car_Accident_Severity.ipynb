{
    "cells": [
        {
            "metadata": {},
            "cell_type": "markdown",
            "source": "# Capstone Project - Car accident severity "
        },
        {
            "metadata": {},
            "cell_type": "markdown",
            "source": "## Introduction/Business Understanding:\nIn an effort to reduce the frequency of car collisions in a community, an algorithm must be developed to predict the severity of an accident given the current weather, road and visibility conditions. When conditions are bad, this model will alert drivers to remind them to be more careful.\n    \nIn most cases, not paying enough attention during driving, abusing drugs and alcohol are the main causes of occurring accidents that can be prevented by enacting harsher regulations. Besides the mentioned reasons weather, visibility, or road conditions are the major factors that can be prevented by revealing hidden patterns in the data and announcing warning to the local government, police and drivers on the targeted locations."
        },
        {
            "metadata": {},
            "cell_type": "markdown",
            "source": "## Data \nImport Primary Modules. The first thing we'll do is import two key data analysis modules: pandas and Numpy."
        },
        {
            "metadata": {},
            "cell_type": "code",
            "source": "import numpy as np  # useful for many scientific computing in Python\nimport pandas as pd # primary data structure library\nfrom sklearn.utils import resample",
            "execution_count": 3,
            "outputs": []
        },
        {
            "metadata": {},
            "cell_type": "markdown",
            "source": "### Data Understanding\nIn this assignment we will be using shared data file : [Data-Collision.csv](https://s3.us.cloud-object-storage.appdomain.cloud/cf-courses-data/CognitiveClass/DP0701EN/version-2/Data-Collisions.csv)\n\nDownload the dataset and read it into a pandas dataframe."
        },
        {
            "metadata": {},
            "cell_type": "code",
            "source": "df_collision = pd.read_csv(\"https://s3.us.cloud-object-storage.appdomain.cloud/cf-courses-data/CognitiveClass/DP0701EN/version-2/Data-Collisions.csv\")",
            "execution_count": 4,
            "outputs": [
                {
                    "output_type": "stream",
                    "text": "/opt/conda/envs/Python36/lib/python3.6/site-packages/IPython/core/interactiveshell.py:3020: DtypeWarning: Columns (33) have mixed types. Specify dtype option on import or set low_memory=False.\n  interactivity=interactivity, compiler=compiler, result=result)\n",
                    "name": "stderr"
                }
            ]
        },
        {
            "metadata": {},
            "cell_type": "markdown",
            "source": "Let's take a look at the overview of our dataset."
        },
        {
            "metadata": {},
            "cell_type": "code",
            "source": "df_collision.describe()",
            "execution_count": 5,
            "outputs": [
                {
                    "output_type": "execute_result",
                    "execution_count": 5,
                    "data": {
                        "text/plain": "        SEVERITYCODE              X              Y       OBJECTID  \\\ncount  194673.000000  189339.000000  189339.000000  194673.000000   \nmean        1.298901    -122.330518      47.619543  108479.364930   \nstd         0.457778       0.029976       0.056157   62649.722558   \nmin         1.000000    -122.419091      47.495573       1.000000   \n25%         1.000000    -122.348673      47.575956   54267.000000   \n50%         1.000000    -122.330224      47.615369  106912.000000   \n75%         2.000000    -122.311937      47.663664  162272.000000   \nmax         2.000000    -122.238949      47.734142  219547.000000   \n\n              INCKEY      COLDETKEY         INTKEY  SEVERITYCODE.1  \\\ncount  194673.000000  194673.000000   65070.000000   194673.000000   \nmean   141091.456350  141298.811381   37558.450576        1.298901   \nstd     86634.402737   86986.542110   51745.990273        0.457778   \nmin      1001.000000    1001.000000   23807.000000        1.000000   \n25%     70383.000000   70383.000000   28667.000000        1.000000   \n50%    123363.000000  123363.000000   29973.000000        1.000000   \n75%    203319.000000  203459.000000   33973.000000        2.000000   \nmax    331454.000000  332954.000000  757580.000000        2.000000   \n\n         PERSONCOUNT       PEDCOUNT    PEDCYLCOUNT       VEHCOUNT  \\\ncount  194673.000000  194673.000000  194673.000000  194673.000000   \nmean        2.444427       0.037139       0.028391       1.920780   \nstd         1.345929       0.198150       0.167413       0.631047   \nmin         0.000000       0.000000       0.000000       0.000000   \n25%         2.000000       0.000000       0.000000       2.000000   \n50%         2.000000       0.000000       0.000000       2.000000   \n75%         3.000000       0.000000       0.000000       2.000000   \nmax        81.000000       6.000000       2.000000      12.000000   \n\n        SDOT_COLCODE    SDOTCOLNUM     SEGLANEKEY  CROSSWALKKEY  \ncount  194673.000000  1.149360e+05  194673.000000  1.946730e+05  \nmean       13.867768  7.972521e+06     269.401114  9.782452e+03  \nstd         6.868755  2.553533e+06    3315.776055  7.226926e+04  \nmin         0.000000  1.007024e+06       0.000000  0.000000e+00  \n25%        11.000000  6.040015e+06       0.000000  0.000000e+00  \n50%        13.000000  8.023022e+06       0.000000  0.000000e+00  \n75%        14.000000  1.015501e+07       0.000000  0.000000e+00  \nmax        69.000000  1.307202e+07  525241.000000  5.239700e+06  ",
                        "text/html": "<div>\n<style scoped>\n    .dataframe tbody tr th:only-of-type {\n        vertical-align: middle;\n    }\n\n    .dataframe tbody tr th {\n        vertical-align: top;\n    }\n\n    .dataframe thead th {\n        text-align: right;\n    }\n</style>\n<table border=\"1\" class=\"dataframe\">\n  <thead>\n    <tr style=\"text-align: right;\">\n      <th></th>\n      <th>SEVERITYCODE</th>\n      <th>X</th>\n      <th>Y</th>\n      <th>OBJECTID</th>\n      <th>INCKEY</th>\n      <th>COLDETKEY</th>\n      <th>INTKEY</th>\n      <th>SEVERITYCODE.1</th>\n      <th>PERSONCOUNT</th>\n      <th>PEDCOUNT</th>\n      <th>PEDCYLCOUNT</th>\n      <th>VEHCOUNT</th>\n      <th>SDOT_COLCODE</th>\n      <th>SDOTCOLNUM</th>\n      <th>SEGLANEKEY</th>\n      <th>CROSSWALKKEY</th>\n    </tr>\n  </thead>\n  <tbody>\n    <tr>\n      <th>count</th>\n      <td>194673.000000</td>\n      <td>189339.000000</td>\n      <td>189339.000000</td>\n      <td>194673.000000</td>\n      <td>194673.000000</td>\n      <td>194673.000000</td>\n      <td>65070.000000</td>\n      <td>194673.000000</td>\n      <td>194673.000000</td>\n      <td>194673.000000</td>\n      <td>194673.000000</td>\n      <td>194673.000000</td>\n      <td>194673.000000</td>\n      <td>1.149360e+05</td>\n      <td>194673.000000</td>\n      <td>1.946730e+05</td>\n    </tr>\n    <tr>\n      <th>mean</th>\n      <td>1.298901</td>\n      <td>-122.330518</td>\n      <td>47.619543</td>\n      <td>108479.364930</td>\n      <td>141091.456350</td>\n      <td>141298.811381</td>\n      <td>37558.450576</td>\n      <td>1.298901</td>\n      <td>2.444427</td>\n      <td>0.037139</td>\n      <td>0.028391</td>\n      <td>1.920780</td>\n      <td>13.867768</td>\n      <td>7.972521e+06</td>\n      <td>269.401114</td>\n      <td>9.782452e+03</td>\n    </tr>\n    <tr>\n      <th>std</th>\n      <td>0.457778</td>\n      <td>0.029976</td>\n      <td>0.056157</td>\n      <td>62649.722558</td>\n      <td>86634.402737</td>\n      <td>86986.542110</td>\n      <td>51745.990273</td>\n      <td>0.457778</td>\n      <td>1.345929</td>\n      <td>0.198150</td>\n      <td>0.167413</td>\n      <td>0.631047</td>\n      <td>6.868755</td>\n      <td>2.553533e+06</td>\n      <td>3315.776055</td>\n      <td>7.226926e+04</td>\n    </tr>\n    <tr>\n      <th>min</th>\n      <td>1.000000</td>\n      <td>-122.419091</td>\n      <td>47.495573</td>\n      <td>1.000000</td>\n      <td>1001.000000</td>\n      <td>1001.000000</td>\n      <td>23807.000000</td>\n      <td>1.000000</td>\n      <td>0.000000</td>\n      <td>0.000000</td>\n      <td>0.000000</td>\n      <td>0.000000</td>\n      <td>0.000000</td>\n      <td>1.007024e+06</td>\n      <td>0.000000</td>\n      <td>0.000000e+00</td>\n    </tr>\n    <tr>\n      <th>25%</th>\n      <td>1.000000</td>\n      <td>-122.348673</td>\n      <td>47.575956</td>\n      <td>54267.000000</td>\n      <td>70383.000000</td>\n      <td>70383.000000</td>\n      <td>28667.000000</td>\n      <td>1.000000</td>\n      <td>2.000000</td>\n      <td>0.000000</td>\n      <td>0.000000</td>\n      <td>2.000000</td>\n      <td>11.000000</td>\n      <td>6.040015e+06</td>\n      <td>0.000000</td>\n      <td>0.000000e+00</td>\n    </tr>\n    <tr>\n      <th>50%</th>\n      <td>1.000000</td>\n      <td>-122.330224</td>\n      <td>47.615369</td>\n      <td>106912.000000</td>\n      <td>123363.000000</td>\n      <td>123363.000000</td>\n      <td>29973.000000</td>\n      <td>1.000000</td>\n      <td>2.000000</td>\n      <td>0.000000</td>\n      <td>0.000000</td>\n      <td>2.000000</td>\n      <td>13.000000</td>\n      <td>8.023022e+06</td>\n      <td>0.000000</td>\n      <td>0.000000e+00</td>\n    </tr>\n    <tr>\n      <th>75%</th>\n      <td>2.000000</td>\n      <td>-122.311937</td>\n      <td>47.663664</td>\n      <td>162272.000000</td>\n      <td>203319.000000</td>\n      <td>203459.000000</td>\n      <td>33973.000000</td>\n      <td>2.000000</td>\n      <td>3.000000</td>\n      <td>0.000000</td>\n      <td>0.000000</td>\n      <td>2.000000</td>\n      <td>14.000000</td>\n      <td>1.015501e+07</td>\n      <td>0.000000</td>\n      <td>0.000000e+00</td>\n    </tr>\n    <tr>\n      <th>max</th>\n      <td>2.000000</td>\n      <td>-122.238949</td>\n      <td>47.734142</td>\n      <td>219547.000000</td>\n      <td>331454.000000</td>\n      <td>332954.000000</td>\n      <td>757580.000000</td>\n      <td>2.000000</td>\n      <td>81.000000</td>\n      <td>6.000000</td>\n      <td>2.000000</td>\n      <td>12.000000</td>\n      <td>69.000000</td>\n      <td>1.307202e+07</td>\n      <td>525241.000000</td>\n      <td>5.239700e+06</td>\n    </tr>\n  </tbody>\n</table>\n</div>"
                    },
                    "metadata": {}
                }
            ]
        },
        {
            "metadata": {},
            "cell_type": "markdown",
            "source": "Let's take a look at the first five items in our dataset."
        },
        {
            "metadata": {},
            "cell_type": "code",
            "source": "df_collision.head()",
            "execution_count": 6,
            "outputs": [
                {
                    "output_type": "execute_result",
                    "execution_count": 6,
                    "data": {
                        "text/plain": "   SEVERITYCODE           X          Y  OBJECTID  INCKEY  COLDETKEY REPORTNO  \\\n0             2 -122.323148  47.703140         1    1307       1307  3502005   \n1             1 -122.347294  47.647172         2   52200      52200  2607959   \n2             1 -122.334540  47.607871         3   26700      26700  1482393   \n3             1 -122.334803  47.604803         4    1144       1144  3503937   \n4             2 -122.306426  47.545739         5   17700      17700  1807429   \n\n    STATUS      ADDRTYPE   INTKEY  ... ROADCOND                LIGHTCOND  \\\n0  Matched  Intersection  37475.0  ...      Wet                 Daylight   \n1  Matched         Block      NaN  ...      Wet  Dark - Street Lights On   \n2  Matched         Block      NaN  ...      Dry                 Daylight   \n3  Matched         Block      NaN  ...      Dry                 Daylight   \n4  Matched  Intersection  34387.0  ...      Wet                 Daylight   \n\n  PEDROWNOTGRNT  SDOTCOLNUM SPEEDING ST_COLCODE  \\\n0           NaN         NaN      NaN         10   \n1           NaN   6354039.0      NaN         11   \n2           NaN   4323031.0      NaN         32   \n3           NaN         NaN      NaN         23   \n4           NaN   4028032.0      NaN         10   \n\n                                          ST_COLDESC  SEGLANEKEY  \\\n0                                  Entering at angle           0   \n1  From same direction - both going straight - bo...           0   \n2                             One parked--one moving           0   \n3                   From same direction - all others           0   \n4                                  Entering at angle           0   \n\n   CROSSWALKKEY  HITPARKEDCAR  \n0             0             N  \n1             0             N  \n2             0             N  \n3             0             N  \n4             0             N  \n\n[5 rows x 38 columns]",
                        "text/html": "<div>\n<style scoped>\n    .dataframe tbody tr th:only-of-type {\n        vertical-align: middle;\n    }\n\n    .dataframe tbody tr th {\n        vertical-align: top;\n    }\n\n    .dataframe thead th {\n        text-align: right;\n    }\n</style>\n<table border=\"1\" class=\"dataframe\">\n  <thead>\n    <tr style=\"text-align: right;\">\n      <th></th>\n      <th>SEVERITYCODE</th>\n      <th>X</th>\n      <th>Y</th>\n      <th>OBJECTID</th>\n      <th>INCKEY</th>\n      <th>COLDETKEY</th>\n      <th>REPORTNO</th>\n      <th>STATUS</th>\n      <th>ADDRTYPE</th>\n      <th>INTKEY</th>\n      <th>...</th>\n      <th>ROADCOND</th>\n      <th>LIGHTCOND</th>\n      <th>PEDROWNOTGRNT</th>\n      <th>SDOTCOLNUM</th>\n      <th>SPEEDING</th>\n      <th>ST_COLCODE</th>\n      <th>ST_COLDESC</th>\n      <th>SEGLANEKEY</th>\n      <th>CROSSWALKKEY</th>\n      <th>HITPARKEDCAR</th>\n    </tr>\n  </thead>\n  <tbody>\n    <tr>\n      <th>0</th>\n      <td>2</td>\n      <td>-122.323148</td>\n      <td>47.703140</td>\n      <td>1</td>\n      <td>1307</td>\n      <td>1307</td>\n      <td>3502005</td>\n      <td>Matched</td>\n      <td>Intersection</td>\n      <td>37475.0</td>\n      <td>...</td>\n      <td>Wet</td>\n      <td>Daylight</td>\n      <td>NaN</td>\n      <td>NaN</td>\n      <td>NaN</td>\n      <td>10</td>\n      <td>Entering at angle</td>\n      <td>0</td>\n      <td>0</td>\n      <td>N</td>\n    </tr>\n    <tr>\n      <th>1</th>\n      <td>1</td>\n      <td>-122.347294</td>\n      <td>47.647172</td>\n      <td>2</td>\n      <td>52200</td>\n      <td>52200</td>\n      <td>2607959</td>\n      <td>Matched</td>\n      <td>Block</td>\n      <td>NaN</td>\n      <td>...</td>\n      <td>Wet</td>\n      <td>Dark - Street Lights On</td>\n      <td>NaN</td>\n      <td>6354039.0</td>\n      <td>NaN</td>\n      <td>11</td>\n      <td>From same direction - both going straight - bo...</td>\n      <td>0</td>\n      <td>0</td>\n      <td>N</td>\n    </tr>\n    <tr>\n      <th>2</th>\n      <td>1</td>\n      <td>-122.334540</td>\n      <td>47.607871</td>\n      <td>3</td>\n      <td>26700</td>\n      <td>26700</td>\n      <td>1482393</td>\n      <td>Matched</td>\n      <td>Block</td>\n      <td>NaN</td>\n      <td>...</td>\n      <td>Dry</td>\n      <td>Daylight</td>\n      <td>NaN</td>\n      <td>4323031.0</td>\n      <td>NaN</td>\n      <td>32</td>\n      <td>One parked--one moving</td>\n      <td>0</td>\n      <td>0</td>\n      <td>N</td>\n    </tr>\n    <tr>\n      <th>3</th>\n      <td>1</td>\n      <td>-122.334803</td>\n      <td>47.604803</td>\n      <td>4</td>\n      <td>1144</td>\n      <td>1144</td>\n      <td>3503937</td>\n      <td>Matched</td>\n      <td>Block</td>\n      <td>NaN</td>\n      <td>...</td>\n      <td>Dry</td>\n      <td>Daylight</td>\n      <td>NaN</td>\n      <td>NaN</td>\n      <td>NaN</td>\n      <td>23</td>\n      <td>From same direction - all others</td>\n      <td>0</td>\n      <td>0</td>\n      <td>N</td>\n    </tr>\n    <tr>\n      <th>4</th>\n      <td>2</td>\n      <td>-122.306426</td>\n      <td>47.545739</td>\n      <td>5</td>\n      <td>17700</td>\n      <td>17700</td>\n      <td>1807429</td>\n      <td>Matched</td>\n      <td>Intersection</td>\n      <td>34387.0</td>\n      <td>...</td>\n      <td>Wet</td>\n      <td>Daylight</td>\n      <td>NaN</td>\n      <td>4028032.0</td>\n      <td>NaN</td>\n      <td>10</td>\n      <td>Entering at angle</td>\n      <td>0</td>\n      <td>0</td>\n      <td>N</td>\n    </tr>\n  </tbody>\n</table>\n<p>5 rows \u00d7 38 columns</p>\n</div>"
                    },
                    "metadata": {}
                }
            ]
        },
        {
            "metadata": {
                "collapsed": true
            },
            "cell_type": "markdown",
            "source": "Our predictor or target variable will be 'SEVERITYCODE' because it is used to measure the severity of an accident from 0 to 5 within the dataset. Attributes used to weigh the severity of an accident are 'WEATHER', 'ROADCOND' and 'LIGHTCOND'.\n\nThe dependent variable, \u201cSEVERITYCODE\u201d, contains numbers that correspond to different levels of severity caused by an accident from 0 to 4.\n\nSeverity codes are as follows:\n\n- 0: Little to no Probability (Clear Conditions)\n- 1: Very Low Probability (Chance or Property Damage)\n- 2: Low Probability (Chance of Injury)\n- 3: Mild Probability (Chance of Serious Injury)\n- 4: High Probability (Chance of Fatality)\n\nFurthermore, because of the existence of null values in some records, the data needs to be pre-processed before any further processing."
        },
        {
            "metadata": {},
            "cell_type": "markdown",
            "source": "### Data Preprocessing\nThe dataset in the original form is not ready for data analysis. In order to prepare the data, first, we need to drop the non-relevant columns. Also, most of the features are of type object, when they should be numerical type.\n\nAfter analyzing the data set, I have decided to focus on only four features, severity, weather conditions, road conditions, and light conditions, among others.\n\nTo get a good understanding of the dataset, Now let's check different values in the features. "
        },
        {
            "metadata": {},
            "cell_type": "code",
            "source": "df_collision[\"SEVERITYCODE\"].value_counts()",
            "execution_count": 7,
            "outputs": [
                {
                    "output_type": "execute_result",
                    "execution_count": 7,
                    "data": {
                        "text/plain": "1    136485\n2     58188\nName: SEVERITYCODE, dtype: int64"
                    },
                    "metadata": {}
                }
            ]
        },
        {
            "metadata": {},
            "cell_type": "markdown",
            "source": "The results show, the target feature is imbalance, so we use a simple statistical technique to balance it by downsampling the majority class."
        },
        {
            "metadata": {},
            "cell_type": "code",
            "source": "df_col_max = df_collision[df_collision.SEVERITYCODE == 1]\ndf_col_min = df_collision[df_collision.SEVERITYCODE == 2]\n\ndf_coll_downsampl = resample(df_col_max,\n                             replace = False,\n                             n_samples = 58188,\n                             random_state = 100\n                            )\ndf_balanced = pd.concat([df_coll_downsampl, df_col_min])\ndf_balanced.SEVERITYCODE.value_counts()",
            "execution_count": 8,
            "outputs": [
                {
                    "output_type": "execute_result",
                    "execution_count": 8,
                    "data": {
                        "text/plain": "2    58188\n1    58188\nName: SEVERITYCODE, dtype: int64"
                    },
                    "metadata": {}
                }
            ]
        },
        {
            "metadata": {},
            "cell_type": "markdown",
            "source": "We will be concerntrating on features 'WEATHER', 'ROADCOND' and 'LIGHTCOND' so convert them into int format for analysis."
        },
        {
            "metadata": {},
            "cell_type": "markdown",
            "source": "#### Convert String data to integers"
        },
        {
            "metadata": {},
            "cell_type": "code",
            "source": "df_balanced[\"WEATHER\"].value_counts()",
            "execution_count": 31,
            "outputs": [
                {
                    "output_type": "execute_result",
                    "execution_count": 31,
                    "data": {
                        "text/plain": "Clear                       67909\nRaining                     20580\nOvercast                    16884\nUnknown                      6868\nSnowing                       484\nOther                         426\nFog/Smog/Smoke                339\nSleet/Hail/Freezing Rain       65\nBlowing Sand/Dirt              37\nSevere Crosswind               12\nPartly Cloudy                   4\nName: WEATHER, dtype: int64"
                    },
                    "metadata": {}
                }
            ]
        },
        {
            "metadata": {},
            "cell_type": "code",
            "source": "df_balanced[\"WEATHER\"].head()",
            "execution_count": 32,
            "outputs": [
                {
                    "output_type": "execute_result",
                    "execution_count": 32,
                    "data": {
                        "text/plain": "117913        NaN\n35013     Raining\n193049      Clear\n159701    Unknown\n70109     Raining\nName: WEATHER, dtype: object"
                    },
                    "metadata": {}
                }
            ]
        },
        {
            "metadata": {},
            "cell_type": "code",
            "source": "# creating a dict file  \nweather_dict = {'Clear': 1,'Raining': 2,'Overcast': 3,'Unknown': 4,'Snowing': 5,'Other': 6,'Fog/Smog/Smoke': 7,'Sleet/Hail/Freezing Rain': 8,'Blowing Sand/Dirt': 9,'Severe Crosswind': 10,'Partly Cloudy': 11} \n#dict_w = dict(Clear = 1,Raining = 2,Overcast = 3,Unknown = 4,Snowing = 5,Other = 6,Fog/Smog/Smoke = 7,Sleet/Hail/Freezing Rain = 8, Blowing Sand/Dirt = 9,Severe Crosswind = 10,Partly Cloudy = 11)\n# traversing through dataframe \n#df_collision.WEATHER = [weather_dict[item] for item in df_collision.WEATHER] \n#df_collision.map()\ndf_balanced.dropna(subset = ['WEATHER'], inplace=True)\ndf_balanced['WEATHER_INT'] = df_balanced['WEATHER'].map(weather_dict)",
            "execution_count": 57,
            "outputs": []
        },
        {
            "metadata": {},
            "cell_type": "code",
            "source": "df_balanced[['WEATHER','WEATHER_INT']].head()",
            "execution_count": 58,
            "outputs": [
                {
                    "output_type": "execute_result",
                    "execution_count": 58,
                    "data": {
                        "text/plain": "        WEATHER  WEATHER_INT\n35013   Raining            2\n193049    Clear            1\n159701  Unknown            4\n70109   Raining            2\n149064    Clear            1",
                        "text/html": "<div>\n<style scoped>\n    .dataframe tbody tr th:only-of-type {\n        vertical-align: middle;\n    }\n\n    .dataframe tbody tr th {\n        vertical-align: top;\n    }\n\n    .dataframe thead th {\n        text-align: right;\n    }\n</style>\n<table border=\"1\" class=\"dataframe\">\n  <thead>\n    <tr style=\"text-align: right;\">\n      <th></th>\n      <th>WEATHER</th>\n      <th>WEATHER_INT</th>\n    </tr>\n  </thead>\n  <tbody>\n    <tr>\n      <th>35013</th>\n      <td>Raining</td>\n      <td>2</td>\n    </tr>\n    <tr>\n      <th>193049</th>\n      <td>Clear</td>\n      <td>1</td>\n    </tr>\n    <tr>\n      <th>159701</th>\n      <td>Unknown</td>\n      <td>4</td>\n    </tr>\n    <tr>\n      <th>70109</th>\n      <td>Raining</td>\n      <td>2</td>\n    </tr>\n    <tr>\n      <th>149064</th>\n      <td>Clear</td>\n      <td>1</td>\n    </tr>\n  </tbody>\n</table>\n</div>"
                    },
                    "metadata": {}
                }
            ]
        },
        {
            "metadata": {},
            "cell_type": "code",
            "source": "df_balanced[\"ROADCOND\"].value_counts()",
            "execution_count": 59,
            "outputs": [
                {
                    "output_type": "execute_result",
                    "execution_count": 59,
                    "data": {
                        "text/plain": "Dry               75977\nWet               29336\nUnknown            6854\nIce                 677\nSnow/Slush          518\nOther                77\nStanding Water       60\nSand/Mud/Dirt        42\nOil                  40\nName: ROADCOND, dtype: int64"
                    },
                    "metadata": {}
                }
            ]
        },
        {
            "metadata": {},
            "cell_type": "code",
            "source": "# creating a dict file  \nroad_dict = {'Dry': 1,'Wet': 2,'Unknown': 3,'Ice': 4,'Snow/Slush': 5,'Other': 6,'Standing Water': 7,'Sand/Mud/Dirt': 8,'Oil': 9} \n\n# traversing through dataframe \ndf_balanced.dropna(subset = ['ROADCOND'], inplace=True)\ndf_balanced['ROADCOND_INT'] = df_balanced['ROADCOND'].map(road_dict)",
            "execution_count": 62,
            "outputs": []
        },
        {
            "metadata": {
                "scrolled": true
            },
            "cell_type": "code",
            "source": "df_balanced[['ROADCOND','ROADCOND_INT']].head()",
            "execution_count": 63,
            "outputs": [
                {
                    "output_type": "execute_result",
                    "execution_count": 63,
                    "data": {
                        "text/plain": "       ROADCOND  ROADCOND_INT\n35013       Wet             2\n193049      Dry             1\n159701  Unknown             3\n70109   Unknown             3\n149064      Dry             1",
                        "text/html": "<div>\n<style scoped>\n    .dataframe tbody tr th:only-of-type {\n        vertical-align: middle;\n    }\n\n    .dataframe tbody tr th {\n        vertical-align: top;\n    }\n\n    .dataframe thead th {\n        text-align: right;\n    }\n</style>\n<table border=\"1\" class=\"dataframe\">\n  <thead>\n    <tr style=\"text-align: right;\">\n      <th></th>\n      <th>ROADCOND</th>\n      <th>ROADCOND_INT</th>\n    </tr>\n  </thead>\n  <tbody>\n    <tr>\n      <th>35013</th>\n      <td>Wet</td>\n      <td>2</td>\n    </tr>\n    <tr>\n      <th>193049</th>\n      <td>Dry</td>\n      <td>1</td>\n    </tr>\n    <tr>\n      <th>159701</th>\n      <td>Unknown</td>\n      <td>3</td>\n    </tr>\n    <tr>\n      <th>70109</th>\n      <td>Unknown</td>\n      <td>3</td>\n    </tr>\n    <tr>\n      <th>149064</th>\n      <td>Dry</td>\n      <td>1</td>\n    </tr>\n  </tbody>\n</table>\n</div>"
                    },
                    "metadata": {}
                }
            ]
        },
        {
            "metadata": {},
            "cell_type": "code",
            "source": "df_balanced[\"LIGHTCOND\"].value_counts()",
            "execution_count": 64,
            "outputs": [
                {
                    "output_type": "execute_result",
                    "execution_count": 64,
                    "data": {
                        "text/plain": "Daylight                    71615\nDark - Street Lights On     28958\nUnknown                      6051\nDusk                         3619\nDawn                         1530\nDark - No Street Lights       859\nDark - Street Lights Off      705\nOther                         132\nDark - Unknown Lighting         8\nName: LIGHTCOND, dtype: int64"
                    },
                    "metadata": {}
                }
            ]
        },
        {
            "metadata": {},
            "cell_type": "code",
            "source": "# creating a dict file  \nlight_dict = {'Daylight': 1,'Dark - Street Lights On': 2,'Unknown': 3,'Dusk': 4,'Dawn': 5,'Other': 6,'Dark - No Street Lights': 7,'Dark - Street Lights Off': 8,'Other': 9,'Dark - Unknown Lighting': 10} \n\n# traversing through dataframe \ndf_balanced.dropna(subset = ['LIGHTCOND'], inplace=True)\ndf_balanced['LIGHTCOND_INT'] = df_balanced['LIGHTCOND'].map(light_dict)",
            "execution_count": 67,
            "outputs": []
        },
        {
            "metadata": {},
            "cell_type": "code",
            "source": "df_balanced[['LIGHTCOND','LIGHTCOND_INT']].head()",
            "execution_count": 68,
            "outputs": [
                {
                    "output_type": "execute_result",
                    "execution_count": 68,
                    "data": {
                        "text/plain": "                      LIGHTCOND  LIGHTCOND_INT\n35013   Dark - Street Lights On              2\n193049  Dark - Street Lights On              2\n159701                  Unknown              3\n70109                  Daylight              1\n149064                 Daylight              1",
                        "text/html": "<div>\n<style scoped>\n    .dataframe tbody tr th:only-of-type {\n        vertical-align: middle;\n    }\n\n    .dataframe tbody tr th {\n        vertical-align: top;\n    }\n\n    .dataframe thead th {\n        text-align: right;\n    }\n</style>\n<table border=\"1\" class=\"dataframe\">\n  <thead>\n    <tr style=\"text-align: right;\">\n      <th></th>\n      <th>LIGHTCOND</th>\n      <th>LIGHTCOND_INT</th>\n    </tr>\n  </thead>\n  <tbody>\n    <tr>\n      <th>35013</th>\n      <td>Dark - Street Lights On</td>\n      <td>2</td>\n    </tr>\n    <tr>\n      <th>193049</th>\n      <td>Dark - Street Lights On</td>\n      <td>2</td>\n    </tr>\n    <tr>\n      <th>159701</th>\n      <td>Unknown</td>\n      <td>3</td>\n    </tr>\n    <tr>\n      <th>70109</th>\n      <td>Daylight</td>\n      <td>1</td>\n    </tr>\n    <tr>\n      <th>149064</th>\n      <td>Daylight</td>\n      <td>1</td>\n    </tr>\n  </tbody>\n</table>\n</div>"
                    },
                    "metadata": {}
                }
            ]
        },
        {
            "metadata": {},
            "cell_type": "markdown",
            "source": "### Methodology\nFor implementing the solution, we will be using Github as a repository and Jupyter Notebook to preprocess data and build Machine Learning models.\n\nWe will use the following models:\n\n#### K-Nearest Neighbor (KNN)\nKNN will help us predict the severity code of an outcome by finding the most similar to data point within k distance.\n\n#### Decision Tree\nA decision tree model gives us a layout of all possible outcomes so we can fully analyze the concequences of a decision. It context, the decision tree observes all possible outcomes of different weather conditions.\n\n#### Logistic Regression\nBecause our dataset only provides us with two severity code outcomes, our model will only predict one of those two classes. This makes our data binary, which is perfect to use with logistic regression."
        },
        {
            "metadata": {},
            "cell_type": "markdown",
            "source": "## Define X and Y"
        },
        {
            "metadata": {},
            "cell_type": "code",
            "source": "from sklearn import preprocessing",
            "execution_count": 49,
            "outputs": []
        },
        {
            "metadata": {},
            "cell_type": "code",
            "source": "Feature = np.asarray(df_balanced[['WEATHER_INT','ROADCOND_INT','LIGHTCOND_INT']])\nX = Feature\nX[0:5]",
            "execution_count": 69,
            "outputs": [
                {
                    "output_type": "execute_result",
                    "execution_count": 69,
                    "data": {
                        "text/plain": "array([[2, 2, 2],\n       [1, 1, 2],\n       [4, 3, 3],\n       [2, 3, 1],\n       [1, 1, 1]])"
                    },
                    "metadata": {}
                }
            ]
        },
        {
            "metadata": {},
            "cell_type": "code",
            "source": "y = df_balanced['SEVERITYCODE'].values\ny[0:5]",
            "execution_count": 70,
            "outputs": [
                {
                    "output_type": "execute_result",
                    "execution_count": 70,
                    "data": {
                        "text/plain": "array([1, 1, 1, 1, 1])"
                    },
                    "metadata": {}
                }
            ]
        },
        {
            "metadata": {},
            "cell_type": "code",
            "source": "X= preprocessing.StandardScaler().fit(X).transform(X)\nX[0:5]",
            "execution_count": 71,
            "outputs": [
                {
                    "output_type": "stream",
                    "text": "/opt/conda/envs/Python36/lib/python3.6/site-packages/sklearn/utils/validation.py:595: DataConversionWarning: Data with input dtype int64 was converted to float64 by StandardScaler.\n  warnings.warn(msg, DataConversionWarning)\n/opt/conda/envs/Python36/lib/python3.6/site-packages/sklearn/utils/validation.py:595: DataConversionWarning: Data with input dtype int64 was converted to float64 by StandardScaler.\n  warnings.warn(msg, DataConversionWarning)\n",
                    "name": "stderr"
                },
                {
                    "output_type": "execute_result",
                    "execution_count": 71,
                    "data": {
                        "text/plain": "array([[ 0.26285166,  0.79462377,  0.34775004],\n       [-0.67855782, -0.5918625 ,  0.34775004],\n       [ 2.14567063,  2.18111004,  1.24008278],\n       [ 0.26285166,  2.18111004, -0.54458271],\n       [-0.67855782, -0.5918625 , -0.54458271]])"
                    },
                    "metadata": {}
                }
            ]
        },
        {
            "metadata": {},
            "cell_type": "markdown",
            "source": "## K-Nearest Neighbor (KNN)"
        },
        {
            "metadata": {},
            "cell_type": "code",
            "source": "#Importing Libraries\nfrom sklearn.model_selection import train_test_split\nfrom sklearn.neighbors import KNeighborsClassifier\nfrom sklearn.metrics import accuracy_score",
            "execution_count": 72,
            "outputs": []
        },
        {
            "metadata": {},
            "cell_type": "code",
            "source": "x_train, x_test, y_train, y_test = train_test_split( X, y, test_size=0.2, random_state=4)\nprint ('Train set:', x_train.shape,  y_train.shape)\nprint ('Test set:', x_test.shape,  y_test.shape)",
            "execution_count": 73,
            "outputs": [
                {
                    "output_type": "stream",
                    "text": "Train set: (90781, 3) (90781,)\nTest set: (22696, 3) (22696,)\n",
                    "name": "stdout"
                }
            ]
        },
        {
            "metadata": {},
            "cell_type": "code",
            "source": "#Check best value of k\nbest_knn = 0\nprev_score = 0\nfor k in range(1, 10):\n    knn_model  = KNeighborsClassifier(n_neighbors = k).fit(x_train, y_train)\n    knn_yhat = knn_model.predict(x_test)\n    print(\"For K = {} accuracy = {}\".format(k,accuracy_score(y_test,knn_yhat)))\n    if ( accuracy_score(y_test,knn_yhat) >= prev_score ):\n        best_knn = k\n        prev_score = accuracy_score(y_test,knn_yhat)",
            "execution_count": 77,
            "outputs": [
                {
                    "output_type": "stream",
                    "text": "For K = 1 accuracy = 0.5081512160733169\nFor K = 2 accuracy = 0.5087240042298202\nFor K = 3 accuracy = 0.514760310186817\nFor K = 4 accuracy = 0.511059217483257\nFor K = 5 accuracy = 0.510927035600987\nFor K = 6 accuracy = 0.511587945012337\nFor K = 7 accuracy = 0.5165667959111738\nFor K = 8 accuracy = 0.5159058864998237\nFor K = 9 accuracy = 0.5545470567500881\n",
                    "name": "stdout"
                }
            ]
        },
        {
            "metadata": {},
            "cell_type": "code",
            "source": "print (\"KNN model is best for k = \", best_knn)",
            "execution_count": 78,
            "outputs": [
                {
                    "output_type": "stream",
                    "text": "KNN model is best for k =  9\n",
                    "name": "stdout"
                }
            ]
        },
        {
            "metadata": {},
            "cell_type": "code",
            "source": "#Building the model with best value of K\nbest_knn_model = KNeighborsClassifier(n_neighbors = best_knn).fit(x_train, y_train)\nbest_knn_model",
            "execution_count": 79,
            "outputs": [
                {
                    "output_type": "execute_result",
                    "execution_count": 79,
                    "data": {
                        "text/plain": "KNeighborsClassifier(algorithm='auto', leaf_size=30, metric='minkowski',\n           metric_params=None, n_jobs=None, n_neighbors=9, p=2,\n           weights='uniform')"
                    },
                    "metadata": {}
                }
            ]
        },
        {
            "metadata": {},
            "cell_type": "code",
            "source": "# Evaluation Metrics\n# jaccard score and f1 score\nfrom sklearn.metrics import jaccard_similarity_score\nfrom sklearn.metrics import f1_score\n\nprint(\"Train set Accuracy (Jaccard): \", jaccard_similarity_score(y_train, best_knn_model.predict(x_train)))\nprint(\"Test set Accuracy (Jaccard): \", jaccard_similarity_score(y_test, best_knn_model.predict(x_test)))\n\nprint(\"Train set Accuracy (F1): \", f1_score(y_train, best_knn_model.predict(x_train), average='weighted'))\nprint(\"Test set Accuracy (F1): \", f1_score(y_test, best_knn_model.predict(x_test), average='weighted'))",
            "execution_count": 80,
            "outputs": [
                {
                    "output_type": "stream",
                    "text": "Train set Accuracy (Jaccard):  0.5594342428481731\nTest set Accuracy (Jaccard):  0.5545470567500881\nTrain set Accuracy (F1):  0.5008373281052447\nTest set Accuracy (F1):  0.4943563821036535\n",
                    "name": "stdout"
                }
            ]
        },
        {
            "metadata": {},
            "cell_type": "markdown",
            "source": "## Decision Tree"
        },
        {
            "metadata": {},
            "cell_type": "code",
            "source": "# importing libraries\nfrom sklearn.tree import DecisionTreeClassifier",
            "execution_count": 81,
            "outputs": []
        },
        {
            "metadata": {},
            "cell_type": "code",
            "source": "#Find best value for depth\nbest_depth = 0\nprev_dscore = 0\n\nfor d in range(1,10):\n    dt = DecisionTreeClassifier(criterion = 'entropy', max_depth = d).fit(x_train, y_train)\n    dt_yhat = dt.predict(x_test)\n    print(\"For depth = {}  the accuracy score is {} \".format(d, accuracy_score(y_test, dt_yhat)))\n    if (accuracy_score(y_test, dt_yhat) >= prev_dscore ):\n        best_depth = d\n        prev_dscore = accuracy_score(y_test, dt_yhat)",
            "execution_count": 82,
            "outputs": [
                {
                    "output_type": "stream",
                    "text": "For depth = 1  the accuracy score is 0.5493479027141347 \nFor depth = 2  the accuracy score is 0.5493479027141347 \nFor depth = 3  the accuracy score is 0.5510662671836447 \nFor depth = 4  the accuracy score is 0.5582481494536482 \nFor depth = 5  the accuracy score is 0.5581600281988015 \nFor depth = 6  the accuracy score is 0.5574991187874515 \nFor depth = 7  the accuracy score is 0.5584684525907649 \nFor depth = 8  the accuracy score is 0.5587768769827283 \nFor depth = 9  the accuracy score is 0.559525907648925 \n",
                    "name": "stdout"
                }
            ]
        },
        {
            "metadata": {},
            "cell_type": "code",
            "source": "print (\"Decision Tree model is best for depth d = \", best_depth)",
            "execution_count": 83,
            "outputs": [
                {
                    "output_type": "stream",
                    "text": "Decision Tree model is best for depth d =  9\n",
                    "name": "stdout"
                }
            ]
        },
        {
            "metadata": {},
            "cell_type": "code",
            "source": "# Creating the best model for decision tree with best value of depth \n\nbest_dt_model = DecisionTreeClassifier(criterion = 'entropy', max_depth = best_depth).fit(x_train, y_train)\nbest_dt_model",
            "execution_count": 85,
            "outputs": [
                {
                    "output_type": "execute_result",
                    "execution_count": 85,
                    "data": {
                        "text/plain": "DecisionTreeClassifier(class_weight=None, criterion='entropy', max_depth=9,\n            max_features=None, max_leaf_nodes=None,\n            min_impurity_decrease=0.0, min_impurity_split=None,\n            min_samples_leaf=1, min_samples_split=2,\n            min_weight_fraction_leaf=0.0, presort=False, random_state=None,\n            splitter='best')"
                    },
                    "metadata": {}
                }
            ]
        },
        {
            "metadata": {},
            "cell_type": "code",
            "source": "# Evaluation Metrics\n# jaccard score and f1 score\nfrom sklearn.metrics import jaccard_similarity_score\nfrom sklearn.metrics import f1_score\n\nprint(\"Train set Accuracy (Jaccard): \", jaccard_similarity_score(y_train, best_dt_model.predict(x_train)))\nprint(\"Test set Accuracy (Jaccard): \", jaccard_similarity_score(y_test, best_dt_model.predict(x_test)))\n\nprint(\"Train set Accuracy (F1): \", f1_score(y_train, best_dt_model.predict(x_train), average='weighted'))\nprint(\"Test set Accuracy (F1): \", f1_score(y_test, best_dt_model.predict(x_test), average='weighted'))",
            "execution_count": 86,
            "outputs": [
                {
                    "output_type": "stream",
                    "text": "Train set Accuracy (Jaccard):  0.5641819323426708\nTest set Accuracy (Jaccard):  0.559525907648925\nTrain set Accuracy (F1):  0.5303521501107132\nTest set Accuracy (F1):  0.5264419670998483\n",
                    "name": "stdout"
                }
            ]
        },
        {
            "metadata": {},
            "cell_type": "markdown",
            "source": "## Logistic Regression"
        },
        {
            "metadata": {},
            "cell_type": "code",
            "source": "# importing libraries\nfrom sklearn.linear_model import LogisticRegression \nfrom sklearn.metrics import log_loss",
            "execution_count": 87,
            "outputs": []
        },
        {
            "metadata": {},
            "cell_type": "code",
            "source": "best_solver = ''\nprev_rscore = 0\n\nfor k in ('lbfgs', 'saga', 'liblinear', 'newton-cg', 'sag'):\n    lr_model = LogisticRegression(C = 0.01, solver = k).fit(x_train, y_train)\n    lr_yhat = lr_model.predict(x_test)\n    y_prob = lr_model.predict_proba(x_test)\n    print('When Solver is {}, logloss is : {}'.format(k, log_loss(y_test, y_prob)))\n    if (log_loss(y_test, y_prob) >= prev_rscore ):\n        best_solver = k\n        prev_rscore = log_loss(y_test, y_prob)",
            "execution_count": 88,
            "outputs": [
                {
                    "output_type": "stream",
                    "text": "When Solver is lbfgs, logloss is : 0.6830913862931347\nWhen Solver is saga, logloss is : 0.6830914098436894\nWhen Solver is liblinear, logloss is : 0.6830913271342262\nWhen Solver is newton-cg, logloss is : 0.6830914111953412\nWhen Solver is sag, logloss is : 0.683091376175836\n",
                    "name": "stdout"
                }
            ]
        },
        {
            "metadata": {},
            "cell_type": "code",
            "source": "print(\"Solver : '{}' has the best score {}\".format(best_solver,prev_rscore))",
            "execution_count": 89,
            "outputs": [
                {
                    "output_type": "stream",
                    "text": "Solver : 'newton-cg' has the best score 0.6830914111953412\n",
                    "name": "stdout"
                }
            ]
        },
        {
            "metadata": {},
            "cell_type": "code",
            "source": "# Best logistic regression model with best solver\n\nbest_lr_model = LogisticRegression(C = 0.01, solver = best_solver).fit(x_train, y_train)\nbest_lr_model",
            "execution_count": 90,
            "outputs": [
                {
                    "output_type": "execute_result",
                    "execution_count": 90,
                    "data": {
                        "text/plain": "LogisticRegression(C=0.01, class_weight=None, dual=False, fit_intercept=True,\n          intercept_scaling=1, max_iter=100, multi_class='warn',\n          n_jobs=None, penalty='l2', random_state=None, solver='newton-cg',\n          tol=0.0001, verbose=0, warm_start=False)"
                    },
                    "metadata": {}
                }
            ]
        },
        {
            "metadata": {},
            "cell_type": "code",
            "source": "# Evaluation Metrics\n# jaccard score and f1 score\nfrom sklearn.metrics import jaccard_similarity_score\nfrom sklearn.metrics import f1_score\n\nprint(\"Train set Accuracy (Jaccard): \", jaccard_similarity_score(y_train, best_lr_model.predict(x_train)))\nprint(\"Test set Accuracy (Jaccard): \", jaccard_similarity_score(y_test, best_lr_model.predict(x_test)))\n\nprint(\"Train set Accuracy (F1): \", f1_score(y_train, best_lr_model.predict(x_train), average='weighted'))\nprint(\"Test set Accuracy (F1): \", f1_score(y_test, best_lr_model.predict(x_test), average='weighted'))",
            "execution_count": 91,
            "outputs": [
                {
                    "output_type": "stream",
                    "text": "Train set Accuracy (Jaccard):  0.5316641147376654\nTest set Accuracy (Jaccard):  0.5320761367641875\nTrain set Accuracy (F1):  0.5300991509225988\nTest set Accuracy (F1):  0.5305240301885548\n",
                    "name": "stdout"
                }
            ]
        },
        {
            "metadata": {},
            "cell_type": "markdown",
            "source": "## Model Evaluation"
        },
        {
            "metadata": {},
            "cell_type": "code",
            "source": "# Jaccard\n\n# KNN\nknn_yhat = best_knn_model.predict(x_test)\njacc1 = round(jaccard_similarity_score(y_test, knn_yhat), 2)\n\n# Decision Tree\ndt_yhat = best_dt_model.predict(x_test)\njacc2 = round(jaccard_similarity_score(y_test, dt_yhat), 2)\n\n# Logistic Regression\nlr_yhat = best_lr_model.predict(x_test)\njacc3 = round(jaccard_similarity_score(y_test, lr_yhat), 2)\n\njss = [jacc1, jacc2, jacc3]\njss",
            "execution_count": 92,
            "outputs": [
                {
                    "output_type": "execute_result",
                    "execution_count": 92,
                    "data": {
                        "text/plain": "[0.55, 0.56, 0.53]"
                    },
                    "metadata": {}
                }
            ]
        },
        {
            "metadata": {},
            "cell_type": "code",
            "source": "# F1_score\n\n# KNN\nknn_yhat = best_knn_model.predict(x_test)\nf1 = round(f1_score(y_test, knn_yhat, average = 'weighted'), 2)\n\n# Decision Tree\ndt_yhat = best_dt_model.predict(x_test)\nf2 = round(f1_score(y_test, dt_yhat, average = 'weighted'), 2)\n\n# Logistic Regression\nlr_yhat = best_lr_model.predict(x_test)\nf3 = round(f1_score(y_test, lr_yhat, average = 'weighted'), 2)\n\nf1_list = [f1, f2, f3]\nf1_list",
            "execution_count": 93,
            "outputs": [
                {
                    "output_type": "execute_result",
                    "execution_count": 93,
                    "data": {
                        "text/plain": "[0.49, 0.53, 0.53]"
                    },
                    "metadata": {}
                }
            ]
        },
        {
            "metadata": {},
            "cell_type": "code",
            "source": "# log loss\n\n# Logistic Regression\nlr_prob = best_lr_model.predict_proba(x_test)\nll_list = ['NA','NA', round(log_loss(y_test, lr_prob), 2)]\nll_list",
            "execution_count": 96,
            "outputs": [
                {
                    "output_type": "execute_result",
                    "execution_count": 96,
                    "data": {
                        "text/plain": "['NA', 'NA', 0.68]"
                    },
                    "metadata": {}
                }
            ]
        },
        {
            "metadata": {},
            "cell_type": "code",
            "source": "columns = ['KNN', 'Decision Tree', 'Logistic Regression']\nindex = ['Jaccard', 'F1-score', 'Logloss']\n\naccuracy_df = pd.DataFrame([jss, f1_list, ll_list], index = index, columns = columns)\naccuracy_df1 = accuracy_df.transpose()\naccuracy_df1.columns.name = 'Algorithm'\naccuracy_df1",
            "execution_count": 97,
            "outputs": [
                {
                    "output_type": "execute_result",
                    "execution_count": 97,
                    "data": {
                        "text/plain": "Algorithm           Jaccard F1-score Logloss\nKNN                    0.55     0.49      NA\nDecision Tree          0.56     0.53      NA\nLogistic Regression    0.53     0.53    0.68",
                        "text/html": "<div>\n<style scoped>\n    .dataframe tbody tr th:only-of-type {\n        vertical-align: middle;\n    }\n\n    .dataframe tbody tr th {\n        vertical-align: top;\n    }\n\n    .dataframe thead th {\n        text-align: right;\n    }\n</style>\n<table border=\"1\" class=\"dataframe\">\n  <thead>\n    <tr style=\"text-align: right;\">\n      <th>Algorithm</th>\n      <th>Jaccard</th>\n      <th>F1-score</th>\n      <th>Logloss</th>\n    </tr>\n  </thead>\n  <tbody>\n    <tr>\n      <th>KNN</th>\n      <td>0.55</td>\n      <td>0.49</td>\n      <td>NA</td>\n    </tr>\n    <tr>\n      <th>Decision Tree</th>\n      <td>0.56</td>\n      <td>0.53</td>\n      <td>NA</td>\n    </tr>\n    <tr>\n      <th>Logistic Regression</th>\n      <td>0.53</td>\n      <td>0.53</td>\n      <td>0.68</td>\n    </tr>\n  </tbody>\n</table>\n</div>"
                    },
                    "metadata": {}
                }
            ]
        },
        {
            "metadata": {},
            "cell_type": "markdown",
            "source": "## Disscussion\nIn the beginning of this notebook, we had categorical data that was of type 'object'. This is not a data type that we could have fed through an algoritim, so label encoding was used to created new classes that were of type int8; a numerical data type.\n\nAfter solving that issue we were presented with another - imbalanced data. As mentioned earlier, class 1 was nearly three times larger than class 2. The solution to this was downsampling the majority class with sklearn's resample tool. We downsampled to match the minority class exactly with 58188 values each.\n\nOnce we analyzed and cleaned the data, it was then fed through three ML models; K-Nearest Neighbor, Decision Tree and Logistic Regression. Although the first two are ideal for this project, logistic regression made most sense because of its binary nature.\n\nEvaluation metrics used to test the accuracy of our models were jaccard index, f-1 score and logloss for logistic regression. Choosing different k, max depth and hyparameter C values helped to improve our accuracy to be the best possible."
        },
        {
            "metadata": {},
            "cell_type": "markdown",
            "source": "## Conclusion\nBased on the dataset provided for this capstone from weather, road, and light conditions pointing to certain classes, we can conclude that particular conditions have a somewhat impact on whether or not travel could result in property damage (class 1) or injury (class 2)."
        },
        {
            "metadata": {},
            "cell_type": "code",
            "source": "",
            "execution_count": null,
            "outputs": []
        }
    ],
    "metadata": {
        "kernelspec": {
            "name": "python3",
            "display_name": "Python 3.6",
            "language": "python"
        },
        "language_info": {
            "name": "python",
            "version": "3.6.9",
            "mimetype": "text/x-python",
            "codemirror_mode": {
                "name": "ipython",
                "version": 3
            },
            "pygments_lexer": "ipython3",
            "nbconvert_exporter": "python",
            "file_extension": ".py"
        }
    },
    "nbformat": 4,
    "nbformat_minor": 1
}